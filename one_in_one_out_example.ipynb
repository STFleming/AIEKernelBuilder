{
 "cells": [
  {
   "cell_type": "code",
   "execution_count": 1,
   "id": "e4ccb29c-e853-4153-8bf8-5053c331a5ac",
   "metadata": {},
   "outputs": [],
   "source": [
    "from aie_kernel_builder import AIEKernelBuilder\n",
    "import numpy as np"
   ]
  },
  {
   "cell_type": "code",
   "execution_count": 2,
   "id": "4f760116-2865-42aa-91bf-1aac698b5081",
   "metadata": {},
   "outputs": [],
   "source": [
    "%%kernel\n",
    "#include \"ipulog.h\"\n",
    "\n",
    "void passthrough(uint8_t* a, uint8_t* c, uint8_t* stdout) {\n",
    "\n",
    "    IPULogger log(stdout, 256);\n",
    "    ::aie::vector<uint8_t, 32> ai, bi, ci;\n",
    "\n",
    "    log.write(\"Starting Kernel Execution!\\n\");\n",
    "\n",
    "    aie::tile tile=aie::tile::current();\n",
    "    uint64_t Tstart = tile.cycles(); //cycle counter of the AI Engine tile\n",
    "\n",
    "    for(int i=0; i<4096; i++) {\n",
    "        c[i] = a[i];\n",
    "    }\n",
    "\n",
    "    uint64_t Tend = tile.cycles(); //cycle counter of the AI Engine tile\n",
    "    uint64_t cycles = Tend - Tstart;\n",
    "\n",
    "    log.write(\"Completed executing. cycles=%u\\n\", cycles);\n",
    "}"
   ]
  },
  {
   "cell_type": "code",
   "execution_count": 3,
   "id": "4a068718-658f-4bd0-9f1f-3634f97ee58a",
   "metadata": {},
   "outputs": [],
   "source": [
    "a = np.random.randint(0, 256, size=4096, dtype=np.uint8)\n",
    "c = np.zeros(4096, dtype=np.uint8)\n",
    "\n",
    "passthrough.c.array = c\n",
    "passthrough_test = AIEKernelBuilder(passthrough, a, c)"
   ]
  },
  {
   "cell_type": "code",
   "execution_count": 4,
   "id": "c78f256c-2924-436b-bc69-ce17fff2cabc",
   "metadata": {},
   "outputs": [
    {
     "name": "stdout",
     "output_type": "stream",
     "text": [
      "Using cached passthrough kernel object file...\n",
      "Building the xclbin...\n",
      "Successfully Building Application... AIEKernelBuilder.xclbin & AIEKernelBuilder.seq delivered\n",
      "Build completed, running...\n",
      "\n",
      "\n",
      "Starting Kernel Execution!\n",
      "Completed executing. cycles=32776\n",
      "~~~~~~~~~~~~~\n"
     ]
    }
   ],
   "source": [
    "ans = passthrough_test.run(cache=False)"
   ]
  },
  {
   "cell_type": "code",
   "execution_count": 5,
   "id": "f669c305-d6f2-4b96-b51b-5dd3cc238d29",
   "metadata": {},
   "outputs": [
    {
     "data": {
      "text/plain": [
       "PynqBuffer([195, 137,   5, ..., 141,  94, 112], dtype=uint8)"
      ]
     },
     "execution_count": 5,
     "metadata": {},
     "output_type": "execute_result"
    }
   ],
   "source": [
    "ans"
   ]
  }
 ],
 "metadata": {
  "kernelspec": {
   "display_name": "Python 3 (ipykernel)",
   "language": "python",
   "name": "python3"
  },
  "language_info": {
   "codemirror_mode": {
    "name": "ipython",
    "version": 3
   },
   "file_extension": ".py",
   "mimetype": "text/x-python",
   "name": "python",
   "nbconvert_exporter": "python",
   "pygments_lexer": "ipython3",
   "version": "3.12.3"
  }
 },
 "nbformat": 4,
 "nbformat_minor": 5
}
